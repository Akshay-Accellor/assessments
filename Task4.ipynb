{
 "cells": [
  {
   "cell_type": "code",
   "execution_count": 4,
   "metadata": {},
   "outputs": [
    {
     "name": "stdout",
     "output_type": "stream",
     "text": [
      "62 days\n"
     ]
    }
   ],
   "source": [
    "from datetime import date\n",
    "\n",
    "date1 = input('Enter the date(yyyy/mm/dd) format:' )\n",
    "date2 = input('Enter the date(yyyy/mm/dd) format:' ) \n",
    "\n",
    "try: \n",
    "    year1,month1,day1 = map(int,date1.split('/'))\n",
    "    d1 = date(year1,month1,day1)\n",
    "\n",
    "    year2,month2,day2 = map(int,date2.split('/'))\n",
    "    d2 = date(year2,month2,day2)\n",
    "\n",
    "    if d2 > d1:\n",
    "        print((d2-d1).days,\"days\")\n",
    "    else:\n",
    "        print((d1-d2).days,\"days\")\n",
    "\n",
    "except ValueError:\n",
    "    print('Incorrect Date format,Enter in (yyyy/mm/dd)')\n"
   ]
  }
 ],
 "metadata": {
  "kernelspec": {
   "display_name": "Python 3",
   "language": "python",
   "name": "python3"
  },
  "language_info": {
   "codemirror_mode": {
    "name": "ipython",
    "version": 3
   },
   "file_extension": ".py",
   "mimetype": "text/x-python",
   "name": "python",
   "nbconvert_exporter": "python",
   "pygments_lexer": "ipython3",
   "version": "3.12.4"
  }
 },
 "nbformat": 4,
 "nbformat_minor": 2
}
