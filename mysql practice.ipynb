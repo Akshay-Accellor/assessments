{
 "cells": [
  {
   "cell_type": "code",
   "execution_count": 13,
   "metadata": {},
   "outputs": [],
   "source": [
    "import mysql.connector as sql"
   ]
  },
  {
   "cell_type": "code",
   "execution_count": 14,
   "metadata": {},
   "outputs": [
    {
     "name": "stdout",
     "output_type": "stream",
     "text": [
      "<mysql.connector.connection_cext.CMySQLConnection object at 0x000002769804C890>\n"
     ]
    }
   ],
   "source": [
    "mydb = sql.connect(\n",
    "  host=\"localhost\",\n",
    "  user=\"root\",\n",
    "  password=\"12345\"\n",
    ")\n",
    "\n",
    "print(mydb)"
   ]
  },
  {
   "cell_type": "code",
   "execution_count": 12,
   "metadata": {},
   "outputs": [
    {
     "name": "stdout",
     "output_type": "stream",
     "text": [
      "Database exists\n"
     ]
    }
   ],
   "source": [
    "mycursor = mydb.cursor()\n",
    "\n",
    "try:\n",
    "    mycursor.execute(\"CREATE DATABASE mydatabase\")\n",
    "except:\n",
    "    print(\"Database exists\")\n",
    "\n"
   ]
  },
  {
   "cell_type": "code",
   "execution_count": 16,
   "metadata": {},
   "outputs": [
    {
     "name": "stdout",
     "output_type": "stream",
     "text": [
      "('information_schema',)\n",
      "('mydatabase',)\n",
      "('mysql',)\n",
      "('performance_schema',)\n",
      "('sakila',)\n",
      "('sys',)\n",
      "('world',)\n"
     ]
    }
   ],
   "source": [
    "mycursor.execute(\"SHOW DATABASES\")\n",
    "\n",
    "for x in mycursor:\n",
    "    print(x)\n"
   ]
  },
  {
   "cell_type": "code",
   "execution_count": 18,
   "metadata": {},
   "outputs": [],
   "source": [
    "mydb = sql.connect(\n",
    "  host=\"localhost\",\n",
    "  user=\"root\",\n",
    "  password=\"12345\",\n",
    "  database=\"mydatabase\"\n",
    ")"
   ]
  },
  {
   "cell_type": "code",
   "execution_count": 19,
   "metadata": {},
   "outputs": [],
   "source": [
    "mycursor = mydb.cursor()\n",
    "mycursor.execute(\"CREATE TABLE customers (name VARCHAR(255), address VARCHAR(255))\")"
   ]
  },
  {
   "cell_type": "code",
   "execution_count": 28,
   "metadata": {},
   "outputs": [
    {
     "name": "stdout",
     "output_type": "stream",
     "text": [
      "('customers',)\n"
     ]
    }
   ],
   "source": [
    "\n",
    "mydb = sql.connect(\n",
    "  host=\"localhost\",\n",
    "  user=\"root\",\n",
    "  password=\"12345\",\n",
    "  database=\"mydatabase\"\n",
    ")\n",
    "\n",
    "mycursor = mydb.cursor()\n",
    "\n",
    "mycursor.execute(\"SHOW TABLES\")\n",
    "\n",
    "for x in mycursor:\n",
    "  print(x)"
   ]
  },
  {
   "cell_type": "code",
   "execution_count": 31,
   "metadata": {},
   "outputs": [],
   "source": [
    "mycursor = mydb.cursor()\n",
    "\n",
    "# SQL statement to drop the table\n",
    "sql1 = \"DROP TABLE customers\"\n",
    "\n",
    "mycursor.execute(sql1)"
   ]
  },
  {
   "cell_type": "code",
   "execution_count": 32,
   "metadata": {},
   "outputs": [],
   "source": [
    "mycursor = mydb.cursor()\n",
    "\n",
    "mycursor.execute(\"CREATE TABLE customers (id INT AUTO_INCREMENT PRIMARY KEY, name VARCHAR(255), address VARCHAR(255))\")"
   ]
  },
  {
   "cell_type": "code",
   "execution_count": 33,
   "metadata": {},
   "outputs": [
    {
     "name": "stdout",
     "output_type": "stream",
     "text": [
      "1 record inserted.\n"
     ]
    }
   ],
   "source": [
    "mycursor = mydb.cursor()\n",
    "\n",
    "sql = \"INSERT INTO customers (name, address) VALUES (%s, %s)\"\n",
    "val = (\"John\", \"Highway 21\")\n",
    "mycursor.execute(sql, val)\n",
    "\n",
    "mydb.commit()\n",
    "\n",
    "print(mycursor.rowcount, \"record inserted.\")"
   ]
  },
  {
   "cell_type": "code",
   "execution_count": 34,
   "metadata": {},
   "outputs": [
    {
     "name": "stdout",
     "output_type": "stream",
     "text": [
      "13 was inserted.\n"
     ]
    }
   ],
   "source": [
    "mycursor = mydb.cursor()\n",
    "\n",
    "sql = \"INSERT INTO customers (name, address) VALUES (%s, %s)\"\n",
    "val = [\n",
    "  ('Peter', 'Lowstreet 4'),\n",
    "  ('Amy', 'Apple st 652'),\n",
    "  ('Hannah', 'Mountain 21'),\n",
    "  ('Michael', 'Valley 345'),\n",
    "  ('Sandy', 'Ocean blvd 2'),\n",
    "  ('Betty', 'Green Grass 1'),\n",
    "  ('Richard', 'Sky st 331'),\n",
    "  ('Susan', 'One way 98'),\n",
    "  ('Vicky', 'Yellow Garden 2'),\n",
    "  ('Ben', 'Park Lane 38'),\n",
    "  ('William', 'Central st 954'),\n",
    "  ('Chuck', 'Main Road 989'),\n",
    "  ('Viola', 'Sideway 1633')\n",
    "]\n",
    "\n",
    "mycursor.executemany(sql, val)\n",
    "\n",
    "mydb.commit()\n",
    "\n",
    "print(mycursor.rowcount, \"was inserted.\")"
   ]
  },
  {
   "cell_type": "code",
   "execution_count": 8,
   "metadata": {},
   "outputs": [
    {
     "name": "stdout",
     "output_type": "stream",
     "text": [
      "(1, 'John', 'Highway 21')\n",
      "(2, 'Peter', 'Lowstreet 4')\n",
      "(3, 'Amy', 'Apple st 652')\n",
      "(4, 'Hannah', 'Mountain 21')\n",
      "(5, 'Michael', 'Valley 345')\n",
      "(6, 'Sandy', 'Ocean blvd 2')\n",
      "(7, 'Betty', 'Green Grass 1')\n",
      "(8, 'Richard', 'Sky st 331')\n",
      "(9, 'Susan', 'One way 98')\n",
      "(10, 'Vicky', 'Yellow Garden 2')\n",
      "(11, 'Ben', 'Park Lane 38')\n",
      "(12, 'William', 'Central st 954')\n",
      "(13, 'Chuck', 'Main Road 989')\n",
      "(14, 'Viola', 'Sideway 1633')\n"
     ]
    }
   ],
   "source": [
    "import mysql.connector\n",
    "\n",
    "mydb = mysql.connector.connect(\n",
    "  host=\"localhost\",\n",
    "  user=\"root\",\n",
    "  password=\"12345\",\n",
    "  database=\"mydatabase\"\n",
    ")\n",
    "\n",
    "mycursor = mydb.cursor()\n",
    "\n",
    "mycursor.execute(\"SELECT * FROM customers\")\n",
    "\n",
    "myresult = mycursor.fetchall()\n",
    "\n",
    "for x in myresult:\n",
    "  print(x)"
   ]
  },
  {
   "cell_type": "code",
   "execution_count": 9,
   "metadata": {},
   "outputs": [
    {
     "name": "stdout",
     "output_type": "stream",
     "text": [
      "('John', 'Highway 21')\n",
      "('Peter', 'Lowstreet 4')\n",
      "('Amy', 'Apple st 652')\n",
      "('Hannah', 'Mountain 21')\n",
      "('Michael', 'Valley 345')\n",
      "('Sandy', 'Ocean blvd 2')\n",
      "('Betty', 'Green Grass 1')\n",
      "('Richard', 'Sky st 331')\n",
      "('Susan', 'One way 98')\n",
      "('Vicky', 'Yellow Garden 2')\n",
      "('Ben', 'Park Lane 38')\n",
      "('William', 'Central st 954')\n",
      "('Chuck', 'Main Road 989')\n",
      "('Viola', 'Sideway 1633')\n"
     ]
    }
   ],
   "source": [
    "mycursor.execute(\"select name, address from customers\")\n",
    "\n",
    "myresult = mycursor.fetchall()\n",
    "\n",
    "for x in myresult:\n",
    "    print(x)"
   ]
  },
  {
   "cell_type": "code",
   "execution_count": 10,
   "metadata": {},
   "outputs": [
    {
     "name": "stdout",
     "output_type": "stream",
     "text": [
      "(11, 'Ben', 'Park Lane 38')\n"
     ]
    }
   ],
   "source": [
    "mycursor.execute(\"select * from customers where address = 'park Lane 38'\")\n",
    "\n",
    "myresult = mycursor.fetchall()\n",
    "\n",
    "for x in myresult:\n",
    "    print(x)"
   ]
  },
  {
   "cell_type": "code",
   "execution_count": 11,
   "metadata": {},
   "outputs": [
    {
     "name": "stdout",
     "output_type": "stream",
     "text": [
      "(11, 'Ben', 'Park Lane 38')\n"
     ]
    }
   ],
   "source": [
    "sql = \"select * from customers where address = 'park Lane 38'\"\n",
    "\n",
    "mycursor.execute(sql)\n",
    "\n",
    "myresult = mycursor.fetchall()\n",
    "\n",
    "for x in myresult:\n",
    "    print(x)"
   ]
  },
  {
   "cell_type": "code",
   "execution_count": 13,
   "metadata": {},
   "outputs": [
    {
     "name": "stdout",
     "output_type": "stream",
     "text": [
      "(10, 'Vicky', 'Yellow Garden 2')\n"
     ]
    }
   ],
   "source": [
    "sql = \"SELECT * FROM customers WHERE address = %s\"\n",
    "adr = (\"Yellow Garden 2\", )\n",
    "\n",
    "mycursor.execute(sql, adr)\n",
    "\n",
    "myresult = mycursor.fetchall()\n",
    "\n",
    "for x in myresult:\n",
    "  print(x)"
   ]
  },
  {
   "cell_type": "code",
   "execution_count": 15,
   "metadata": {},
   "outputs": [
    {
     "name": "stdout",
     "output_type": "stream",
     "text": [
      "(3, 'Amy', 'Apple st 652')\n",
      "(11, 'Ben', 'Park Lane 38')\n",
      "(7, 'Betty', 'Green Grass 1')\n",
      "(13, 'Chuck', 'Main Road 989')\n",
      "(4, 'Hannah', 'Mountain 21')\n",
      "(1, 'John', 'Highway 21')\n",
      "(5, 'Michael', 'Valley 345')\n",
      "(2, 'Peter', 'Lowstreet 4')\n",
      "(8, 'Richard', 'Sky st 331')\n",
      "(6, 'Sandy', 'Ocean blvd 2')\n",
      "(9, 'Susan', 'One way 98')\n",
      "(10, 'Vicky', 'Yellow Garden 2')\n",
      "(14, 'Viola', 'Sideway 1633')\n",
      "(12, 'William', 'Central st 954')\n"
     ]
    }
   ],
   "source": [
    "mycursor.execute(\"select * from customers  order by name\")\n",
    "\n",
    "myresult = mycursor.fetchall()\n",
    "\n",
    "for x in myresult:\n",
    "    print(x)"
   ]
  },
  {
   "cell_type": "code",
   "execution_count": 16,
   "metadata": {},
   "outputs": [
    {
     "name": "stdout",
     "output_type": "stream",
     "text": [
      "(12, 'William', 'Central st 954')\n",
      "(14, 'Viola', 'Sideway 1633')\n",
      "(10, 'Vicky', 'Yellow Garden 2')\n",
      "(9, 'Susan', 'One way 98')\n",
      "(6, 'Sandy', 'Ocean blvd 2')\n",
      "(8, 'Richard', 'Sky st 331')\n",
      "(2, 'Peter', 'Lowstreet 4')\n",
      "(5, 'Michael', 'Valley 345')\n",
      "(1, 'John', 'Highway 21')\n",
      "(4, 'Hannah', 'Mountain 21')\n",
      "(13, 'Chuck', 'Main Road 989')\n",
      "(7, 'Betty', 'Green Grass 1')\n",
      "(11, 'Ben', 'Park Lane 38')\n",
      "(3, 'Amy', 'Apple st 652')\n"
     ]
    }
   ],
   "source": [
    "sql = \"select * from customers order by name desc\"\n",
    "\n",
    "mycursor.execute(sql)\n",
    "\n",
    "myresult = mycursor.fetchall()\n",
    "\n",
    "for x in myresult:\n",
    "    print(x)"
   ]
  },
  {
   "cell_type": "code",
   "execution_count": 17,
   "metadata": {},
   "outputs": [
    {
     "name": "stdout",
     "output_type": "stream",
     "text": [
      "(1, 'John', 'Highway 21')\n",
      "(2, 'Peter', 'Lowstreet 4')\n",
      "(3, 'Amy', 'Apple st 652')\n",
      "(4, 'Hannah', 'Mountain 21')\n",
      "(5, 'Michael', 'Valley 345')\n",
      "(6, 'Sandy', 'Ocean blvd 2')\n",
      "(7, 'Betty', 'Green Grass 1')\n",
      "(8, 'Richard', 'Sky st 331')\n",
      "(9, 'Susan', 'One way 98')\n",
      "(10, 'Vicky', 'Yellow Garden 2')\n",
      "(11, 'Ben', 'Park Lane 38')\n",
      "(12, 'William', 'Central st 954')\n",
      "(13, 'Chuck', 'Main Road 989')\n",
      "(14, 'Viola', 'Sideway 1633')\n"
     ]
    }
   ],
   "source": [
    "sql = \"select * from customers order by id\"\n",
    "\n",
    "mycursor.execute(sql)\n",
    "\n",
    "myresult = mycursor.fetchall()\n",
    "\n",
    "for x in myresult:\n",
    "    print(x)"
   ]
  },
  {
   "cell_type": "code",
   "execution_count": 18,
   "metadata": {},
   "outputs": [
    {
     "name": "stdout",
     "output_type": "stream",
     "text": [
      "1 records(s) deleted\n"
     ]
    }
   ],
   "source": [
    "sql = \"delete from customers where address = 'Mountain 21'\"\n",
    "\n",
    "mycursor.execute(sql)\n",
    "\n",
    "mydb.commit()\n",
    "\n",
    "print(mycursor.rowcount,\"records(s) deleted\")"
   ]
  },
  {
   "cell_type": "code",
   "execution_count": 19,
   "metadata": {},
   "outputs": [
    {
     "name": "stdout",
     "output_type": "stream",
     "text": [
      "(1, 'John', 'Highway 21')\n",
      "(2, 'Peter', 'Lowstreet 4')\n",
      "(3, 'Amy', 'Apple st 652')\n",
      "(5, 'Michael', 'Valley 345')\n",
      "(6, 'Sandy', 'Ocean blvd 2')\n",
      "(7, 'Betty', 'Green Grass 1')\n",
      "(8, 'Richard', 'Sky st 331')\n",
      "(9, 'Susan', 'One way 98')\n",
      "(10, 'Vicky', 'Yellow Garden 2')\n",
      "(11, 'Ben', 'Park Lane 38')\n",
      "(12, 'William', 'Central st 954')\n",
      "(13, 'Chuck', 'Main Road 989')\n",
      "(14, 'Viola', 'Sideway 1633')\n"
     ]
    }
   ],
   "source": [
    "mycursor.execute(\"select * from customers\")\n",
    "\n",
    "myresult = mycursor.fetchall()\n",
    "\n",
    "for x in myresult:\n",
    "    print(x)"
   ]
  },
  {
   "cell_type": "code",
   "execution_count": 20,
   "metadata": {},
   "outputs": [
    {
     "name": "stdout",
     "output_type": "stream",
     "text": [
      "1 record(s) affected\n"
     ]
    }
   ],
   "source": [
    "sql = \"UPDATE customers SET address = 'Canyon 123' WHERE address = 'Valley 345'\"\n",
    "\n",
    "mycursor.execute(sql)\n",
    "\n",
    "mydb.commit()\n",
    "\n",
    "print(mycursor.rowcount, \"record(s) affected\")"
   ]
  },
  {
   "cell_type": "code",
   "execution_count": 28,
   "metadata": {},
   "outputs": [
    {
     "name": "stdout",
     "output_type": "stream",
     "text": [
      "(5, 'Michael', 'Canyon 123')\n"
     ]
    }
   ],
   "source": [
    "mycursor.execute(\"select * from customers where id = 5\")\n",
    "\n",
    "myresult = mycursor.fetchall()\n",
    "\n",
    "for x in myresult:\n",
    "    print(x)"
   ]
  },
  {
   "cell_type": "code",
   "execution_count": 29,
   "metadata": {},
   "outputs": [
    {
     "name": "stdout",
     "output_type": "stream",
     "text": [
      "(1, 'John', 'Highway 21')\n",
      "(2, 'Peter', 'Lowstreet 4')\n",
      "(3, 'Amy', 'Apple st 652')\n",
      "(5, 'Michael', 'Canyon 123')\n",
      "(6, 'Sandy', 'Ocean blvd 2')\n"
     ]
    }
   ],
   "source": [
    "mycursor.execute(\"SELECT * FROM customers LIMIT 5\")\n",
    "\n",
    "myresult = mycursor.fetchall()\n",
    "\n",
    "for x in myresult:\n",
    "  print(x)"
   ]
  },
  {
   "cell_type": "code",
   "execution_count": 30,
   "metadata": {},
   "outputs": [
    {
     "name": "stdout",
     "output_type": "stream",
     "text": [
      "(3, 'Amy', 'Apple st 652')\n",
      "(5, 'Michael', 'Canyon 123')\n",
      "(6, 'Sandy', 'Ocean blvd 2')\n",
      "(7, 'Betty', 'Green Grass 1')\n",
      "(8, 'Richard', 'Sky st 331')\n"
     ]
    }
   ],
   "source": [
    "mycursor.execute(\"SELECT * FROM customers LIMIT 5 OFFSET 2\")\n",
    "\n",
    "myresult = mycursor.fetchall()\n",
    "\n",
    "for x in myresult:\n",
    "  print(x)"
   ]
  }
 ],
 "metadata": {
  "kernelspec": {
   "display_name": "Python 3",
   "language": "python",
   "name": "python3"
  },
  "language_info": {
   "codemirror_mode": {
    "name": "ipython",
    "version": 3
   },
   "file_extension": ".py",
   "mimetype": "text/x-python",
   "name": "python",
   "nbconvert_exporter": "python",
   "pygments_lexer": "ipython3",
   "version": "3.12.4"
  }
 },
 "nbformat": 4,
 "nbformat_minor": 2
}
